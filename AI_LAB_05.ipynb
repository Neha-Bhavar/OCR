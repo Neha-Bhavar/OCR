{
  "nbformat": 4,
  "nbformat_minor": 0,
  "metadata": {
    "colab": {
      "provenance": []
    },
    "kernelspec": {
      "name": "python3",
      "display_name": "Python 3"
    },
    "language_info": {
      "name": "python"
    }
  },
  "cells": [
    {
      "cell_type": "code",
      "execution_count": 1,
      "metadata": {
        "id": "LEnLbkCQOI0D"
      },
      "outputs": [],
      "source": [
        "import numpy as np"
      ]
    },
    {
      "cell_type": "code",
      "source": [
        "array = [[1,-2,1.5,0],[1,-0.5,-2,-1.5],[0,1,-1,-1.5]]\n",
        "desired=[1,-1,1]\n",
        "x = np.array(array)\n",
        "weight = [1,-1,0,0.5]\n",
        "output = []\n",
        "c = 1\n",
        "p = 0\n",
        "while(desired!=output):\n",
        "    output=[]\n",
        "    for i in range(3):\n",
        "        y = 0\n",
        "        for j in range(len(x[i])):\n",
        "            y = y + x[i][j]*weight[j]\n",
        "        if(y>0):\n",
        "            y=1\n",
        "        elif(y<0):\n",
        "            y=-1\n",
        "        output.append(y)\n",
        "        weight = weight + c*(desired[i]-y)*x[i]\n",
        "        print(\"List Output\",weight,output)\n",
        "    p=p+1\n",
        "    print(\"{} epoch {}\".format(p,output))"
      ],
      "metadata": {
        "colab": {
          "base_uri": "https://localhost:8080/"
        },
        "id": "Kz30L41iON1X",
        "outputId": "c8a85ee8-342b-47bd-9926-7bd0c710a168"
      },
      "execution_count": 2,
      "outputs": [
        {
          "output_type": "stream",
          "name": "stdout",
          "text": [
            "List Output [ 1.  -1.   0.   0.5] [1]\n",
            "List Output [-1.   0.   4.   3.5] [1, 1]\n",
            "List Output [-1.   2.   2.   0.5] [1, 1, -1]\n",
            "1 epoch [1, 1, -1]\n",
            "List Output [ 1.  -2.   5.   0.5] [-1]\n",
            "List Output [ 1.  -2.   5.   0.5] [-1, -1]\n",
            "List Output [ 1.   0.   3.  -2.5] [-1, -1, -1]\n",
            "2 epoch [-1, -1, -1]\n",
            "List Output [ 1.   0.   3.  -2.5] [1]\n",
            "List Output [ 1.   0.   3.  -2.5] [1, -1]\n",
            "List Output [ 1.   0.   3.  -2.5] [1, -1, 1]\n",
            "3 epoch [1, -1, 1]\n"
          ]
        }
      ]
    }
  ]
}